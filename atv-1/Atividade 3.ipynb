{
 "cells": [
  {
   "cell_type": "markdown",
   "metadata": {},
   "source": [
    "# Atividade 3 - NumPy e Matplotlib"
   ]
  },
  {
   "cell_type": "markdown",
   "metadata": {},
   "source": [
    "Escreva a data na qual você finalizou o *notebook* e o seu nome abaixo. Termine a linha com dois espaços para que a data e o nome não fiquem em uma linha só."
   ]
  },
  {
   "cell_type": "markdown",
   "metadata": {},
   "source": [
    "**Data:**  \n",
    "**Nome:**  "
   ]
  },
  {
   "cell_type": "markdown",
   "metadata": {},
   "source": [
    "## Instruções\n",
    "\n",
    "Acrescente suas próprias células para responder os enunciados.\n",
    "\n",
    "Ao finalizar, submeta a atividade através do ColabWeb."
   ]
  },
  {
   "cell_type": "markdown",
   "metadata": {},
   "source": [
    "## Advertência\n",
    "\n",
    "Recomenda-se realizar esta atividade em uma instalação *offline* do Jupyter Notebook, evitando o Google Colaboratory. O *notebook* apresentará alguns erros de formatação no Google Colaboratory, pois o Google Colaboratory não interpreta corretamente formatação em HTML.\n",
    "\n",
    "Entretanto, caso você queira realizar a atividade no Google Colaboratory, desative as ferramentas de IA. Caso contrário você **não conseguira estudar**.\n",
    "\n",
    "1. Clique no ícone da engrenagem no canto superior direito para acessar as configurações\n",
    "1. Selecione o menu \"IA\"\n",
    "1. Desabilite as sugestões e a IA geradora/generativa"
   ]
  },
  {
   "cell_type": "markdown",
   "metadata": {},
   "source": [
    "# Manipulação de vetores"
   ]
  },
  {
   "cell_type": "markdown",
   "metadata": {},
   "source": [
    "<div style=\"background-color: #E2A038; border: #E2A038 solid 1px; margin-left: 2em; padding-left: 5px\"><div style=\"background-color: #F5EEE3; width: 100%; padding: 10px\">\n",
    "\n",
    "Utilize o NumPy para gerar uma coleção de 10 números aleatórios uniformemente distribuídos no intervalo $[0,1)$.\n",
    "\n",
    "</div></div>"
   ]
  },
  {
   "cell_type": "code",
   "execution_count": 1,
   "metadata": {},
   "outputs": [],
   "source": [
    "import numpy as np"
   ]
  },
  {
   "cell_type": "code",
   "execution_count": 10,
   "metadata": {},
   "outputs": [
    {
     "data": {
      "text/plain": [
       "array([0.89169802, 0.70083221, 0.97731211, 0.72817512, 0.83542242,\n",
       "       0.04843781, 0.89299575, 0.01086705, 0.87027209, 0.5757733 ])"
      ]
     },
     "execution_count": 10,
     "metadata": {},
     "output_type": "execute_result"
    }
   ],
   "source": [
    "np.random.random(10)"
   ]
  },
  {
   "cell_type": "markdown",
   "metadata": {},
   "source": [
    "<div style=\"background-color: #E2A038; border: #E2A038 solid 1px; margin-left: 2em; padding-left: 5px\"><div style=\"background-color: #F5EEE3; width: 100%; padding: 10px\">\n",
    "\n",
    "Utilize o PyPlot para gerar um histograma dessa coleção.\n",
    "\n",
    "</div></div>"
   ]
  },
  {
   "cell_type": "code",
   "execution_count": null,
   "metadata": {},
   "outputs": [],
   "source": [
    "import matplotlib as mpl\n",
    "import matplotlib.pyplot as plt"
   ]
  },
  {
   "cell_type": "markdown",
   "metadata": {},
   "source": [
    "<div style=\"background-color: #E2A038; border: #E2A038 solid 1px; margin-left: 2em; padding-left: 5px\"><div style=\"background-color: #F5EEE3; width: 100%; padding: 10px\">\n",
    "\n",
    "Esse histograma não se parece muito com o que esperaríamos... tente uma coleção maior.\n",
    "\n",
    "</div></div>"
   ]
  },
  {
   "cell_type": "code",
   "execution_count": null,
   "metadata": {},
   "outputs": [],
   "source": []
  },
  {
   "cell_type": "markdown",
   "metadata": {},
   "source": [
    "## Distribuições de variáveis aleatórias"
   ]
  },
  {
   "cell_type": "markdown",
   "metadata": {},
   "source": [
    "Um importante resultado da estatística é o Teorema do Limite Central. Ele diz que o valor médio de uma coleção de variáveis aleatórias independentes aproxima-se de uma distribuição normal.\n",
    "\n",
    "Por exemplo, dada coleção de variáveis aleatórias que seguem a distribuição uniforme no intervalo $[0, 1)$\n",
    "\n",
    "$$X_1, X_2, \\ldots, X_n \\sim \\mathcal{U}(0, 1),$$\n",
    "\n",
    "Se tirarmos a média dessas variáveis, ela vai seguir uma distrbuição normal com média $\\mu=0{,}5$. Isso é relevante porque existem testes estatísticos que supõem que os dados seguem uma distribuição gaussiana.\n",
    "\n",
    "Essa informação também pode ser usada como uma forma rudimentar de amostrar variáveis aleatórias seguindo uma distribuição aproximadamente normal. O Python possui formas mais sofisticadas de se fazer isso, mas é interesante vermos que conseguimos um resultado razoável com ferramentas simples."
   ]
  },
  {
   "cell_type": "markdown",
   "metadata": {},
   "source": [
    "<div style=\"background-color: #E2A038; border: #E2A038 solid 1px; margin-left: 2em; padding-left: 5px\"><div style=\"background-color: #F5EEE3; width: 100%; padding: 10px\">\n",
    "\n",
    "Escreva uma função que gera algumas variáveis aleatórias uniformemente distribuídas no intervalo $[0,1)$ e retorna o valor médio dessas amostras.\n",
    "</div></div>"
   ]
  },
  {
   "cell_type": "code",
   "execution_count": null,
   "metadata": {},
   "outputs": [],
   "source": [
    "import numpy as np\n",
    "import matplotlib.pyplot as plt"
   ]
  },
  {
   "cell_type": "code",
   "execution_count": null,
   "metadata": {},
   "outputs": [],
   "source": []
  },
  {
   "cell_type": "markdown",
   "metadata": {},
   "source": [
    "<div style=\"background-color: #E2A038; border: #E2A038 solid 1px; margin-left: 2em; padding-left: 5px\"><div style=\"background-color: #F5EEE3; width: 100%; padding: 10px\">\n",
    "\n",
    "A função que você gerou segue uma distribuição apriximadamente normal com médoa $0,5$. Utilize o PyPlot para gerar um histograma com mil variáveis aletórias coletadas da sua função.\n",
    "\n",
    "</div></div>"
   ]
  },
  {
   "cell_type": "code",
   "execution_count": null,
   "metadata": {},
   "outputs": [],
   "source": []
  },
  {
   "cell_type": "markdown",
   "metadata": {},
   "source": [
    "### Distribuições do NumPy"
   ]
  },
  {
   "cell_type": "markdown",
   "metadata": {},
   "source": [
    "Existem formas mais sofisticas de se gerar números aleatórios segundo uma distribuição normal. O NumPy implementa essa e diversas outras distribuições."
   ]
  },
  {
   "cell_type": "markdown",
   "metadata": {},
   "source": [
    "<div style=\"background-color: #E2A038; border: #E2A038 solid 1px; margin-left: 2em; padding-left: 5px\"><div style=\"background-color: #F5EEE3; width: 100%; padding: 10px\">\n",
    "\n",
    "Utilize `numpy.random.RandomState` para instanciar um objeto de números pseudoaleatórios  com um estado inicial bem definido.\n",
    "</div></div>"
   ]
  },
  {
   "cell_type": "code",
   "execution_count": null,
   "metadata": {},
   "outputs": [],
   "source": [
    "rng = "
   ]
  },
  {
   "cell_type": "markdown",
   "metadata": {},
   "source": [
    "<div style=\"background-color: #E2A038; border: #E2A038 solid 1px; margin-left: 2em; padding-left: 5px\"><div style=\"background-color: #F5EEE3; width: 100%; padding: 10px\">\n",
    "\n",
    "Utilize `RandomState` para amostrar números aleatórios de uma distribuição normal $\\mathcal{N}(0,1)$.\n",
    "</div></div>"
   ]
  },
  {
   "cell_type": "code",
   "execution_count": null,
   "metadata": {},
   "outputs": [],
   "source": [
    "amostra_normal = rng."
   ]
  },
  {
   "cell_type": "code",
   "execution_count": null,
   "metadata": {},
   "outputs": [],
   "source": [
    "plt.hist(amostra_normal);"
   ]
  },
  {
   "cell_type": "markdown",
   "metadata": {},
   "source": [
    "<div style=\"background-color: #E2A038; border: #E2A038 solid 1px; margin-left: 2em; padding-left: 5px\"><div style=\"background-color: #F5EEE3; width: 100%; padding: 10px\">\n",
    "\n",
    "Amostre $1.000$ números e plote um histograma.\n",
    "</div></div>"
   ]
  },
  {
   "cell_type": "code",
   "execution_count": null,
   "metadata": {},
   "outputs": [],
   "source": [
    "amostra_normal = rng."
   ]
  },
  {
   "cell_type": "code",
   "execution_count": null,
   "metadata": {},
   "outputs": [],
   "source": [
    "plt.hist(amostra_normal);"
   ]
  },
  {
   "cell_type": "markdown",
   "metadata": {},
   "source": [
    "<div style=\"background-color: #E2A038; border: #E2A038 solid 1px; margin-left: 2em; padding-left: 5px\"><div style=\"background-color: #F5EEE3; width: 100%; padding: 10px\">\n",
    "\n",
    "Você conhece outras distribuições? Verifique se elas estão no NumPy. Utilize, por exemplo, um comando <tt>dir</tt> na classe do gerador pseudoaleatório.\n",
    "</div></div>"
   ]
  },
  {
   "cell_type": "code",
   "execution_count": null,
   "metadata": {},
   "outputs": [],
   "source": []
  },
  {
   "cell_type": "markdown",
   "metadata": {},
   "source": [
    "## Sequências numéricas"
   ]
  },
  {
   "cell_type": "markdown",
   "metadata": {},
   "source": [
    "Para essa atividade, baixe os arquivos de dados que estão no ColabWeb."
   ]
  },
  {
   "cell_type": "markdown",
   "metadata": {},
   "source": [
    "<div style=\"background-color: #E2A038; border: #E2A038 solid 1px; margin-left: 2em; padding-left: 5px\"><div style=\"background-color: #F5EEE3; width: 100%; padding: 10px\">\n",
    "\n",
    "Utilize a função `numpy.loadtxt` para carregar a sequência numérica do arquivo `data/lavras.txt`.\n",
    "</div></div>"
   ]
  },
  {
   "cell_type": "code",
   "execution_count": 1,
   "metadata": {},
   "outputs": [],
   "source": [
    "import numpy as np"
   ]
  },
  {
   "cell_type": "code",
   "execution_count": 2,
   "metadata": {},
   "outputs": [],
   "source": [
    "lavras = np.loadtxt('lavras.txt')"
   ]
  },
  {
   "cell_type": "code",
   "execution_count": 3,
   "metadata": {},
   "outputs": [
    {
     "data": {
      "text/plain": [
       "(384,)"
      ]
     },
     "execution_count": 3,
     "metadata": {},
     "output_type": "execute_result"
    }
   ],
   "source": [
    "lavras.shape"
   ]
  },
  {
   "cell_type": "markdown",
   "metadata": {},
   "source": [
    "<div style=\"background-color: #E2A038; border: #E2A038 solid 1px; margin-left: 2em; padding-left: 5px\"><div style=\"background-color: #F5EEE3; width: 100%; padding: 10px\">\n",
    "\n",
    "Gere um gráfico dessa sequência utilizando PyPlot.\n",
    "</div></div>"
   ]
  },
  {
   "cell_type": "code",
   "execution_count": null,
   "metadata": {},
   "outputs": [],
   "source": []
  },
  {
   "cell_type": "markdown",
   "metadata": {},
   "source": [
    "<div style=\"background-color: #E2A038; border: #E2A038 solid 1px; margin-left: 2em; padding-left: 5px\"><div style=\"background-color: #F5EEE3; width: 100%; padding: 10px\">\n",
    "\n",
    "Use a função `figure` para criar a figura antes de plotar. O argumento `figsize` recebe uma tupla que especifica o tamanho da figura em polegadas. Use essa funcionalidade para gerar uma figura mais legível.\n",
    "</div></div>\n"
   ]
  },
  {
   "cell_type": "code",
   "execution_count": null,
   "metadata": {},
   "outputs": [],
   "source": []
  },
  {
   "cell_type": "markdown",
   "metadata": {},
   "source": [
    "O gráfico gerado mostra o nível mensal de precipitação na cidade de Lavras (MG). Os dados foram coletados no período de janeiro de 1966 até dezembro de 1997."
   ]
  },
  {
   "cell_type": "markdown",
   "metadata": {},
   "source": [
    "<div style=\"background-color: #E2A038; border: #E2A038 solid 1px; margin-left: 2em; padding-left: 5px\"><div style=\"background-color: #F5EEE3; width: 100%; padding: 10px\">\n",
    "\n",
    "Isole os níveis de chuva no ano 1997.\n",
    "</div></div>"
   ]
  },
  {
   "cell_type": "code",
   "execution_count": null,
   "metadata": {},
   "outputs": [],
   "source": [
    "meses = ['jan', 'fev', 'mar', 'abr', 'mai', 'jun', 'jul', 'ago', 'set', 'out', 'nov', 'dez']\n",
    "plt.plot();"
   ]
  },
  {
   "cell_type": "markdown",
   "metadata": {},
   "source": [
    "<div style=\"background-color: #E2A038; border: #E2A038 solid 1px; margin-left: 2em; padding-left: 5px\"><div style=\"background-color: #F5EEE3; width: 100%; padding: 10px\">\n",
    "\n",
    "Isole os níveis de chuva no ano 1990.\n",
    "</div></div>"
   ]
  },
  {
   "cell_type": "code",
   "execution_count": null,
   "metadata": {},
   "outputs": [],
   "source": []
  },
  {
   "cell_type": "markdown",
   "metadata": {},
   "source": [
    "<div style=\"background-color: #E2A038; border: #E2A038 solid 1px; margin-left: 2em; padding-left: 5px\"><div style=\"background-color: #F5EEE3; width: 100%; padding: 10px\">\n",
    "\n",
    "Utilizando `reshape`, transforme a sequência em uma matriz na qual cada linha é um ano.\n",
    "</div></div>"
   ]
  },
  {
   "cell_type": "code",
   "execution_count": null,
   "metadata": {},
   "outputs": [],
   "source": []
  },
  {
   "cell_type": "markdown",
   "metadata": {},
   "source": [
    "<div style=\"background-color: #E2A038; border: #E2A038 solid 1px; margin-left: 2em; padding-left: 5px\"><div style=\"background-color: #F5EEE3; width: 100%; padding: 10px\">\n",
    "\n",
    "Isole os níveis de chuva em 1990 utilizando a matriz.\n",
    "</div></div>"
   ]
  },
  {
   "cell_type": "code",
   "execution_count": null,
   "metadata": {},
   "outputs": [],
   "source": []
  },
  {
   "cell_type": "markdown",
   "metadata": {},
   "source": [
    "<div style=\"background-color: #E2A038; border: #E2A038 solid 1px; margin-left: 2em; padding-left: 5px\"><div style=\"background-color: #F5EEE3; width: 100%; padding: 10px\">\n",
    "\n",
    "Encontre os valores médios, mínimos e máximos de chuva em mês.\n",
    "</div></div>"
   ]
  },
  {
   "cell_type": "code",
   "execution_count": null,
   "metadata": {},
   "outputs": [],
   "source": []
  },
  {
   "cell_type": "markdown",
   "metadata": {},
   "source": [
    "Um tipo de gráfico muito útil é o gráfico de barras. O Matplotlib permite gerar gráficos de barras com a função `bar`. A assinatura completa dessa função é\n",
    "\n",
    "```Python\n",
    "plt.bar(x, height, width=0.8, bottom=None, *, align='center', data=None, **kwargs)\n",
    "```\n",
    "\n",
    "Então a função exige pelo menos dois argumentos posicionais: um para os valores ou rótulos de cada barra e outro com as alturas das barras."
   ]
  },
  {
   "cell_type": "markdown",
   "metadata": {},
   "source": [
    "<div style=\"background-color: #E2A038; border: #E2A038 solid 1px; margin-left: 2em; padding-left: 5px\"><div style=\"background-color: #F5EEE3; width: 100%; padding: 10px\">\n",
    "\n",
    "Gere um gráfico de barras com o nível médio de chuva em cada mês.\n",
    "</div></div>"
   ]
  },
  {
   "cell_type": "code",
   "execution_count": null,
   "metadata": {},
   "outputs": [],
   "source": [
    "meses = ['jan', 'fev', 'mar', 'abr', 'mai', 'jun', 'jul', 'ago', 'set', 'out', 'nov', 'dez']"
   ]
  },
  {
   "cell_type": "code",
   "execution_count": null,
   "metadata": {},
   "outputs": [],
   "source": []
  },
  {
   "cell_type": "markdown",
   "metadata": {},
   "source": [
    "O escore padrão (ou $z$-*score*) é uma estatística utilizada para normalizar os dados. Ela transforma uma amostra para uma distribuição que tem média aproximadamente zero e desvio padrão aproximadamente 1.\n",
    "\n",
    "Para encontrar os escores padrão de uma amostra, subtraia a média e divida pelo seu desvio padrão."
   ]
  },
  {
   "cell_type": "markdown",
   "metadata": {},
   "source": [
    "<div style=\"background-color: #E2A038; border: #E2A038 solid 1px; margin-left: 2em; padding-left: 5px\"><div style=\"background-color: #F5EEE3; width: 100%; padding: 10px\">\n",
    "\n",
    "Encontre o valor médio de chuva em cada ano.\n",
    "</div></div>"
   ]
  },
  {
   "cell_type": "code",
   "execution_count": null,
   "metadata": {},
   "outputs": [],
   "source": []
  },
  {
   "cell_type": "markdown",
   "metadata": {},
   "source": [
    "<div style=\"background-color: #E2A038; border: #E2A038 solid 1px; margin-left: 2em; padding-left: 5px\"><div style=\"background-color: #F5EEE3; width: 100%; padding: 10px\">\n",
    "\n",
    "Encontre o desvio padrão da chuva em cada ano.\n",
    "</div></div>"
   ]
  },
  {
   "cell_type": "code",
   "execution_count": null,
   "metadata": {},
   "outputs": [],
   "source": []
  }
 ],
 "metadata": {
  "kernelspec": {
   "display_name": "Python 3 (ipykernel)",
   "language": "python",
   "name": "python3"
  },
  "language_info": {
   "codemirror_mode": {
    "name": "ipython",
    "version": 3
   },
   "file_extension": ".py",
   "mimetype": "text/x-python",
   "name": "python",
   "nbconvert_exporter": "python",
   "pygments_lexer": "ipython3",
   "version": "3.12.3"
  }
 },
 "nbformat": 4,
 "nbformat_minor": 4
}
