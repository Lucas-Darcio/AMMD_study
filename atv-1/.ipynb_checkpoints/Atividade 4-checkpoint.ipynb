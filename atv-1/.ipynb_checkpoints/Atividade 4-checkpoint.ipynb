{
 "cells": [
  {
   "cell_type": "markdown",
   "metadata": {},
   "source": [
    "# Atividade 4 - Pandas"
   ]
  },
  {
   "cell_type": "markdown",
   "metadata": {},
   "source": [
    "Escreva a data na qual você finalizou o *notebook* e o seu nome abaixo. Termine a linha com dois espaços para que a data e o nome não fiquem em uma linha só."
   ]
  },
  {
   "cell_type": "markdown",
   "metadata": {},
   "source": [
    "**Data:**  \n",
    "**Nome:**"
   ]
  },
  {
   "cell_type": "markdown",
   "metadata": {},
   "source": [
    "## Instruções\n",
    "\n",
    "Para realizar esta atividade, certifique-se de que possui os arquivos `london12.csv`. Esses arquivos podem ser baixados do ColabWeb.\n",
    "\n",
    "Acrescente suas próprias células para responder os enunciados. Ao finalizar, submeta a atividade por meio do ColabWeb."
   ]
  },
  {
   "cell_type": "markdown",
   "metadata": {},
   "source": [
    "## Advertência\n",
    "\n",
    "Recomenda-se realizar esta atividade em uma instalação *offline* do Jupyter Notebook, evitando o Google Colaboratory. O *notebook* apresentará alguns erros de formatação no Google Colaboratory, pois o Google Colaboratory não interpreta corretamente formatação em HTML.\n",
    "\n",
    "Entretanto, caso você queira realizar a atividade no Google Colaboratory, desative as ferramentas de IA. Caso contrário você **não conseguira estudar**.\n",
    "\n",
    "1. Clique no ícone da engrenagem no canto superior direito para acessar as configurações\n",
    "1. Selecione o menu \"IA\"\n",
    "1. Desabilite as sugestões e a IA geradora/generativa"
   ]
  },
  {
   "cell_type": "markdown",
   "metadata": {},
   "source": [
    "## Configuração do *notebook*\n",
    "\n",
    "Baixe o arquivo da atividade no ColabWeb.\n",
    "\n",
    "Execute a célula abaixo para importar as bibliotecas."
   ]
  },
  {
   "cell_type": "code",
   "execution_count": null,
   "metadata": {},
   "outputs": [],
   "source": [
    "import numpy as np\n",
    "import pandas as pd\n",
    "import seaborn as sns\n",
    "import matplotlib.pyplot as plt\n",
    "\n",
    "sns.set()"
   ]
  },
  {
   "cell_type": "markdown",
   "metadata": {},
   "source": [
    "## Exercício 1"
   ]
  },
  {
   "cell_type": "markdown",
   "metadata": {},
   "source": [
    "<div style=\"background-color: #E2A038; border: #E2A038 solid 1px; margin-left: 2em; padding-left: 5px\"><div style=\"background-color: #F5EEE3; width: 100%; padding: 10px\">\n",
    "\n",
    "Carregue o conjunto de dados das Olimpíadas de 2012. Verifique quantas linhas e colunas foram carregadas. (Dica: verifique o formato ou <i>shape</i> do DataFrame)\n",
    "</div></div>"
   ]
  },
  {
   "cell_type": "code",
   "execution_count": null,
   "metadata": {},
   "outputs": [],
   "source": [
    "londres = pd.read_csv()"
   ]
  },
  {
   "cell_type": "markdown",
   "metadata": {},
   "source": [
    "<div style=\"background-color: #E2A038; border: #E2A038 solid 1px; margin-left: 2em; padding-left: 5px\"><div style=\"background-color: #F5EEE3; width: 100%; padding: 10px\">\n",
    "\n",
    "Remova a coluna `ID` usando o método `drop`.\n",
    "</div></div>"
   ]
  },
  {
   "cell_type": "code",
   "execution_count": null,
   "metadata": {},
   "outputs": [],
   "source": [
    "londres.drop()"
   ]
  },
  {
   "cell_type": "markdown",
   "metadata": {},
   "source": [
    "Verifique as colunas remanescentes com o método `head`. Deve haver as colunas Age, Height, Weight, Sex, Total e Sport."
   ]
  },
  {
   "cell_type": "code",
   "execution_count": null,
   "metadata": {},
   "outputs": [],
   "source": [
    "londres.head()"
   ]
  },
  {
   "cell_type": "markdown",
   "metadata": {},
   "source": [
    "<div style=\"background-color: #E2A038; border: #E2A038 solid 1px; margin-left: 2em; padding-left: 5px\"><div style=\"background-color: #F5EEE3; width: 100%; padding: 10px\">\n",
    "\n",
    "Verifique quantos atletas receberam pelo menos uma medalha. O resultado deve ser 493.\n",
    "</div></div>"
   ]
  },
  {
   "cell_type": "code",
   "execution_count": null,
   "metadata": {},
   "outputs": [],
   "source": []
  },
  {
   "cell_type": "markdown",
   "metadata": {},
   "source": [
    "## Exercício 2"
   ]
  },
  {
   "cell_type": "markdown",
   "metadata": {},
   "source": [
    "<div style=\"background-color: #E2A038; border: #E2A038 solid 1px; margin-left: 2em; padding-left: 5px\"><div style=\"background-color: #F5EEE3; width: 100%; padding: 10px\">\n",
    "\n",
    "Usando `idxmax`, encontre o índice da linha que contém o atleta mais velho da competição.\n",
    "</div></div>"
   ]
  },
  {
   "cell_type": "code",
   "execution_count": null,
   "metadata": {},
   "outputs": [],
   "source": [
    "pos_mais_velho = "
   ]
  },
  {
   "cell_type": "markdown",
   "metadata": {},
   "source": [
    "<div style=\"background-color: #E2A038; border: #E2A038 solid 1px; margin-left: 2em; padding-left: 5px\"><div style=\"background-color: #F5EEE3; width: 100%; padding: 10px\">\n",
    "\n",
    "Utilize esse índice para recuperar os dados desse atleta.\n",
    "</div></div>"
   ]
  },
  {
   "cell_type": "code",
   "execution_count": null,
   "metadata": {},
   "outputs": [],
   "source": []
  },
  {
   "cell_type": "markdown",
   "metadata": {},
   "source": [
    "<div style=\"background-color: #E2A038; border: #E2A038 solid 1px; margin-left: 2em; padding-left: 5px\"><div style=\"background-color: #F5EEE3; width: 100%; padding: 10px\">\n",
    "\n",
    "Quem é a atleta mais velha da competição?\n",
    "</div></div>"
   ]
  },
  {
   "cell_type": "markdown",
   "metadata": {},
   "source": [
    "<div style=\"background-color: #3976E4; border: #3976E4 solid 1px; margin-left: 2em; padding-left: 5px\"><div style=\"background-color: #A9B8D1; width: 100%; padding: 10px\">\n",
    "\n",
    "**Dica:** utilize uma condição sobre o atributo `Sex` para gerar uma máscara\n",
    "</div></div>"
   ]
  },
  {
   "cell_type": "code",
   "execution_count": null,
   "metadata": {},
   "outputs": [],
   "source": []
  },
  {
   "cell_type": "markdown",
   "metadata": {},
   "source": [
    "<div style=\"background-color: #E2A038; border: #E2A038 solid 1px; margin-left: 2em; padding-left: 5px\"><div style=\"background-color: #F5EEE3; width: 100%; padding: 10px\">\n",
    "\n",
    "Quem são os 15 atletas mais novos?\n",
    "</div></div>"
   ]
  },
  {
   "cell_type": "code",
   "execution_count": null,
   "metadata": {},
   "outputs": [],
   "source": []
  },
  {
   "cell_type": "markdown",
   "metadata": {},
   "source": [
    "<div style=\"background-color: #E2A038; border: #E2A038 solid 1px; margin-left: 2em; padding-left: 5px\"><div style=\"background-color: #F5EEE3; width: 100%; padding: 10px\">\n",
    "\n",
    "Gere um histograma das idades dos homens\n",
    "</div></div>"
   ]
  },
  {
   "cell_type": "code",
   "execution_count": null,
   "metadata": {},
   "outputs": [],
   "source": []
  },
  {
   "cell_type": "markdown",
   "metadata": {},
   "source": [
    "<div style=\"background-color: #E2A038; border: #E2A038 solid 1px; margin-left: 2em; padding-left: 5px\"><div style=\"background-color: #F5EEE3; width: 100%; padding: 10px\">\n",
    "\n",
    "Gere um histograma das idades das mulheres\n",
    "</div></div>"
   ]
  },
  {
   "cell_type": "code",
   "execution_count": null,
   "metadata": {},
   "outputs": [],
   "source": []
  },
  {
   "cell_type": "markdown",
   "metadata": {},
   "source": [
    "## Exercício 3"
   ]
  },
  {
   "cell_type": "markdown",
   "metadata": {},
   "source": [
    "Neste exercício você deverá utilizar a função `pie` do PyPlot ou o método `plot.pie` da própria série do Pandas para gerar um gráfico de \"pizza\".\n",
    "\n",
    "Você pode obter os dados a partir de um `value_counts` ou usando a função `histogram` do NumPy."
   ]
  },
  {
   "cell_type": "markdown",
   "metadata": {},
   "source": [
    "<div style=\"background-color: #E2A038; border: #E2A038 solid 1px; margin-left: 2em; padding-left: 5px\"><div style=\"background-color: #F5EEE3; width: 100%; padding: 10px\">\n",
    "\n",
    "Faça um gráfico circular (*pie chart*) comparando o número de atletas que não ganharam nenhuma medalha com o número de atletas que ganharam alguma medalha.\n",
    "</div></div>"
   ]
  },
  {
   "cell_type": "code",
   "execution_count": null,
   "metadata": {},
   "outputs": [],
   "source": []
  },
  {
   "cell_type": "code",
   "execution_count": null,
   "metadata": {},
   "outputs": [],
   "source": [
    "sns.set_palette('pastel')"
   ]
  },
  {
   "cell_type": "code",
   "execution_count": null,
   "metadata": {},
   "outputs": [],
   "source": [
    "medalhas = londres.Total.value_counts()\n",
    "plt.pie(..., labels=['Não medalhitas', 'Medalhistas']);  # complete aqui"
   ]
  },
  {
   "cell_type": "markdown",
   "metadata": {},
   "source": [
    "<div style=\"background-color: #3976E4; border: #3976E4 solid 1px; margin-left: 2em; padding-left: 5px\"><div style=\"background-color: #A9B8D1; width: 100%; padding: 10px\">\n",
    "\n",
    "Como um teste, refaça o gráfico do item anterior, passando agora o argumento `explode=[0, 0.2]` para a função `pie`. Observe o que acontece com o segmento do gráfico que representa os atletas medalhistas.\n",
    "</div></div>"
   ]
  },
  {
   "cell_type": "code",
   "execution_count": null,
   "metadata": {},
   "outputs": [],
   "source": [
    "plt.pie(...,\n",
    "        autopct='%.2f%%', explode=[0, 0.2],\n",
    "        labels=['Não medalhitas', 'Medalhistas']);\n",
    "plt.title('Proporção de atletas medalhistas e não medalhistas');"
   ]
  },
  {
   "cell_type": "markdown",
   "metadata": {},
   "source": [
    "<div style=\"background-color: #E2A038; border: #E2A038 solid 1px; margin-left: 2em; padding-left: 5px\"><div style=\"background-color: #F5EEE3; width: 100%; padding: 10px\">\n",
    "\n",
    "Gere um gráfico circular para atletas que ganharam uma medalha e atletas que ganharam duas ou mais medalhas.\n",
    "</div></div>"
   ]
  },
  {
   "cell_type": "code",
   "execution_count": null,
   "metadata": {},
   "outputs": [],
   "source": [
    "plt.pie(...,\n",
    "        labels=['1 medalha', '2+ medalhas'],\n",
    "        autopct='%.2f%%');\n",
    "plt.title('Ganhadores de uma e mais de uma medalha');"
   ]
  },
  {
   "cell_type": "markdown",
   "metadata": {},
   "source": [
    "<div style=\"background-color: #E2A038; border: #E2A038 solid 1px; margin-left: 2em; padding-left: 5px\"><div style=\"background-color: #F5EEE3; width: 100%; padding: 10px\">\n",
    "\n",
    "Utilizando *subplots*, faça uma figura que contém os dois gráficos anteriores, lado a lado, representando duas visões do total de medalhas. A figura deverá ser parecida com a que aparece no *slide* 38 da apresentação `04-Pandas`.\n",
    "</div></div>"
   ]
  },
  {
   "cell_type": "markdown",
   "metadata": {},
   "source": [
    "<div style=\"background-color: #3976E4; border: #3976E4 solid 1px; margin-left: 2em; padding-left: 5px\"><div style=\"background-color: #A9B8D1; width: 100%; padding: 10px\">\n",
    "\n",
    "**Dica:** utilize `plt.subplots_adjust(right=1.2)` ou outro vaor adequado para ajustar os *subplots*\n",
    "</div></div>"
   ]
  },
  {
   "cell_type": "markdown",
   "metadata": {},
   "source": [
    "<div style=\"background-color: #3976E4; border: #3976E4 solid 1px; margin-left: 2em; padding-left: 5px\"><div style=\"background-color: #A9B8D1; width: 100%; padding: 10px\">\n",
    "\n",
    "**Dica:** você pode utilizar `\\n` para fazer quebras de linha no título\n",
    "</div></div>"
   ]
  },
  {
   "cell_type": "code",
   "execution_count": null,
   "metadata": {},
   "outputs": [],
   "source": []
  },
  {
   "cell_type": "markdown",
   "metadata": {},
   "source": [
    "## Exercício 4"
   ]
  },
  {
   "cell_type": "markdown",
   "metadata": {},
   "source": [
    "<div style=\"background-color: #E2A038; border: #E2A038 solid 1px; margin-left: 2em; padding-left: 5px\"><div style=\"background-color: #F5EEE3; width: 100%; padding: 10px\">\n",
    "\n",
    "Substitua a altura e o peso de todos os atletas com valores ausentes por médias das amostras\n",
    "</div></div>"
   ]
  },
  {
   "cell_type": "code",
   "execution_count": null,
   "metadata": {},
   "outputs": [],
   "source": []
  },
  {
   "cell_type": "markdown",
   "metadata": {},
   "source": [
    "<div style=\"background-color: #E2A038; border: #E2A038 solid 1px; margin-left: 2em; padding-left: 5px\"><div style=\"background-color: #F5EEE3; width: 100%; padding: 10px\">\n",
    "\n",
    "Crie um atributo chamado BMI (*body mass index*) utilizando a relação a seguir.\n",
    "</div></div>"
   ]
  },
  {
   "cell_type": "markdown",
   "metadata": {},
   "source": [
    "$$\\text{BMI} = \\frac{\\text{peso}_{kg}}{\\text{altura}^2_{m}}$$"
   ]
  },
  {
   "cell_type": "code",
   "execution_count": null,
   "metadata": {},
   "outputs": [],
   "source": []
  },
  {
   "cell_type": "markdown",
   "metadata": {},
   "source": [
    "<div style=\"background-color: #E2A038; border: #E2A038 solid 1px; margin-left: 2em; padding-left: 5px\"><div style=\"background-color: #F5EEE3; width: 100%; padding: 10px\">\n",
    "\n",
    "Gere um histograma da distribuição do IMC.\n",
    "</div></div>"
   ]
  },
  {
   "cell_type": "code",
   "execution_count": null,
   "metadata": {},
   "outputs": [],
   "source": []
  },
  {
   "cell_type": "markdown",
   "metadata": {},
   "source": [
    "<div style=\"background-color: #E2A038; border: #E2A038 solid 1px; margin-left: 2em; padding-left: 5px\"><div style=\"background-color: #F5EEE3; width: 100%; padding: 10px\">\n",
    "\n",
    "Existe diferença entre o ICM entre homens e mulheres?\n",
    "</div></div>"
   ]
  },
  {
   "cell_type": "markdown",
   "metadata": {},
   "source": [
    "<div style=\"background-color: #3976E4; border: #3976E4 solid 1px; margin-left: 2em; padding-left: 5px\"><div style=\"background-color: #A9B8D1; width: 100%; padding: 10px\">\n",
    "\n",
    "**Dica:** você pode utilizar *subplots* ou especificar um *alpha* para plotar dois histogramas\n",
    "</div></div>"
   ]
  },
  {
   "cell_type": "code",
   "execution_count": null,
   "metadata": {},
   "outputs": [],
   "source": []
  },
  {
   "cell_type": "markdown",
   "metadata": {},
   "source": [
    "<div style=\"background-color: #E2A038; border: #E2A038 solid 1px; margin-left: 2em; padding-left: 5px\"><div style=\"background-color: #F5EEE3; width: 100%; padding: 10px\">\n",
    "\n",
    "Os dados possuem uma cauda muito longa à direita. Faça um histograma apenas dos atletas que possuem IMC maior ou igual a 30\n",
    "</div></div>"
   ]
  },
  {
   "cell_type": "code",
   "execution_count": null,
   "metadata": {},
   "outputs": [],
   "source": []
  },
  {
   "cell_type": "markdown",
   "metadata": {},
   "source": [
    "<div style=\"background-color: #E2A038; border: #E2A038 solid 1px; margin-left: 2em; padding-left: 5px\"><div style=\"background-color: #F5EEE3; width: 100%; padding: 10px\">\n",
    "\n",
    "Faça um *boxplot* para identificar *outliers* no atributo IMC.\n",
    "</div></div>"
   ]
  },
  {
   "cell_type": "code",
   "execution_count": null,
   "metadata": {},
   "outputs": [],
   "source": []
  },
  {
   "cell_type": "markdown",
   "metadata": {},
   "source": [
    "<div style=\"background-color: #E2A038; border: #E2A038 solid 1px; margin-left: 2em; padding-left: 5px\"><div style=\"background-color: #F5EEE3; width: 100%; padding: 10px\">\n",
    "\n",
    "Uma técnica de transformação de atributos que possuem *outliers* é o *clipping*. O *clipping* é obtido determinando-se um ponto de corte em um atributo e agrupando todos os *outliers* com o valor do ponto de corte. Aplique *clipping* no atributo IMC para que não haja atletas com IMC > 30\n",
    "</div></div>"
   ]
  },
  {
   "cell_type": "code",
   "execution_count": null,
   "metadata": {},
   "outputs": [],
   "source": []
  }
 ],
 "metadata": {
  "kernelspec": {
   "display_name": "Python 3 (ipykernel)",
   "language": "python",
   "name": "python3"
  },
  "language_info": {
   "codemirror_mode": {
    "name": "ipython",
    "version": 3
   },
   "file_extension": ".py",
   "mimetype": "text/x-python",
   "name": "python",
   "nbconvert_exporter": "python",
   "pygments_lexer": "ipython3",
   "version": "3.11.2"
  }
 },
 "nbformat": 4,
 "nbformat_minor": 2
}
